{
 "cells": [
  {
   "cell_type": "markdown",
   "id": "c8669be9-0586-42eb-86bf-a8f6a038d38d",
   "metadata": {
    "jp-MarkdownHeadingCollapsed": true,
    "tags": []
   },
   "source": [
    "### Q1. What is Abstraction in OOps? Explain with an example."
   ]
  },
  {
   "cell_type": "markdown",
   "id": "69e2ad3c-9019-4f2b-9786-a68a161e1d76",
   "metadata": {},
   "source": [
    "Abstraction is a method where we can make a blue print to use it further by inheritating the class."
   ]
  },
  {
   "cell_type": "code",
   "execution_count": 24,
   "id": "fbde3352-8c90-4ed0-bc77-36c2dd1f59b3",
   "metadata": {},
   "outputs": [],
   "source": [
    "import abc\n",
    "class p1:\n",
    "    @abc.abstractclassmethod\n",
    "    def radius(self):\n",
    "        pass\n",
    "    @abc.abstractclassmethod\n",
    "    def area(self):\n",
    "        pass\n",
    "    "
   ]
  },
  {
   "cell_type": "code",
   "execution_count": 25,
   "id": "516abe99-57dd-476f-aaa3-f0b9b70d4b71",
   "metadata": {},
   "outputs": [],
   "source": [
    "class p2(p1):\n",
    "    def area(self,a):\n",
    "        return 4/3 * a**2"
   ]
  },
  {
   "cell_type": "code",
   "execution_count": 27,
   "id": "70e4658f-b3e4-4d56-af82-c41a14929e8f",
   "metadata": {},
   "outputs": [
    {
     "data": {
      "text/plain": [
       "2700.0"
      ]
     },
     "execution_count": 27,
     "metadata": {},
     "output_type": "execute_result"
    }
   ],
   "source": [
    "a=p2()\n",
    "a.area(45)\n",
    "\n"
   ]
  },
  {
   "cell_type": "markdown",
   "id": "1c31bf9d-e3fe-4d8b-8927-2c602ffeab9e",
   "metadata": {
    "jp-MarkdownHeadingCollapsed": true,
    "tags": []
   },
   "source": [
    "### Q2. Differentiate between Abstraction and Encapsulation. Explain with an example."
   ]
  },
  {
   "cell_type": "markdown",
   "id": "c2879e0a-0475-4bcd-8ff3-293d4171bce9",
   "metadata": {},
   "source": [
    "Abstraction provides a blue print to make its use as per requirement and Escapsulation helps to hide the low level composition to stop them from modifying."
   ]
  },
  {
   "cell_type": "code",
   "execution_count": 16,
   "id": "07850f28-76d8-4375-84ec-ffda1fa4176f",
   "metadata": {},
   "outputs": [],
   "source": [
    "import abc\n",
    "class p1:\n",
    "    \n",
    "    @abc.abstractclassmethod\n",
    "    def radius(self):#abstracted. \n",
    "        pass\n",
    "    @abc.abstractclassmethod#abstracted used in p2 class to find area.\n",
    "    def area(self):\n",
    "        pass\n",
    "class p2(p1):\n",
    "    def __init__(self,a,b):\n",
    "        self._a=a#Encapsulated and protected from modifying.\n",
    "        self.b=b\n",
    "    def radius(self,a):\n",
    "        self._a=a\n",
    "    def area(self):\n",
    "        return 4/3 * self._a**2"
   ]
  },
  {
   "cell_type": "code",
   "execution_count": 17,
   "id": "629f3bb0-8415-4a4c-8523-d33230c809c5",
   "metadata": {},
   "outputs": [
    {
     "name": "stdout",
     "output_type": "stream",
     "text": [
      "78\n"
     ]
    }
   ],
   "source": [
    "p=p2(4,3)\n",
    "p.b=78\n",
    "print(p.b)#b changed\n"
   ]
  },
  {
   "cell_type": "code",
   "execution_count": 18,
   "id": "a2d06c4d-872e-4c4f-a4bd-c5eadd1e7ed4",
   "metadata": {},
   "outputs": [
    {
     "ename": "AttributeError",
     "evalue": "'p2' object has no attribute 'a'",
     "output_type": "error",
     "traceback": [
      "\u001b[0;31m---------------------------------------------------------------------------\u001b[0m",
      "\u001b[0;31mAttributeError\u001b[0m                            Traceback (most recent call last)",
      "Cell \u001b[0;32mIn[18], line 1\u001b[0m\n\u001b[0;32m----> 1\u001b[0m \u001b[43mp\u001b[49m\u001b[38;5;241;43m.\u001b[39;49m\u001b[43ma\u001b[49m\u001b[38;5;66;03m#not showing to the user\u001b[39;00m\n",
      "\u001b[0;31mAttributeError\u001b[0m: 'p2' object has no attribute 'a'"
     ]
    }
   ],
   "source": [
    "p.a#not showing to the user"
   ]
  },
  {
   "cell_type": "code",
   "execution_count": 19,
   "id": "de7ac5d9-e94f-4475-914e-4ca6245adc61",
   "metadata": {},
   "outputs": [
    {
     "data": {
      "text/plain": [
       "2700.0"
      ]
     },
     "execution_count": 19,
     "metadata": {},
     "output_type": "execute_result"
    }
   ],
   "source": [
    "p.radius(45)\n",
    "p.area()"
   ]
  },
  {
   "cell_type": "markdown",
   "id": "4a9febaf-4bde-4b4d-bdf0-22bae79590fe",
   "metadata": {
    "jp-MarkdownHeadingCollapsed": true,
    "tags": []
   },
   "source": [
    "### Q3. What is abc module in python? Why is it used?"
   ]
  },
  {
   "cell_type": "markdown",
   "id": "a1846612-83c9-4629-8a48-3c54296491df",
   "metadata": {},
   "source": [
    "abc module is Abstract Base Class method.\n",
    "It is used to import abstractclass method."
   ]
  },
  {
   "cell_type": "markdown",
   "id": "dd4cabad-bd95-4525-b048-26fd30f2a651",
   "metadata": {
    "jp-MarkdownHeadingCollapsed": true,
    "tags": []
   },
   "source": [
    "### Q4. How can we achieve data abstraction?"
   ]
  },
  {
   "cell_type": "markdown",
   "id": "a94f73c9-2ff0-4568-8b03-d47ae88edb12",
   "metadata": {},
   "source": [
    "Data abstraction can be achieved through the use of classes and objects through abc module."
   ]
  },
  {
   "cell_type": "markdown",
   "id": "e30cbe8b-76c8-467c-b785-725aaeea878b",
   "metadata": {
    "jp-MarkdownHeadingCollapsed": true,
    "tags": []
   },
   "source": [
    "### Q5. Can we create an instance of an abstract class? Explain your answer."
   ]
  },
  {
   "cell_type": "markdown",
   "id": "f1bf525d-59d6-4a2c-b78d-06d39604dbda",
   "metadata": {},
   "source": [
    "No we can not create as it meant to be a blue print for other classes ."
   ]
  },
  {
   "cell_type": "code",
   "execution_count": null,
   "id": "fd262273-ed7d-4836-acae-9fa22ef71612",
   "metadata": {},
   "outputs": [],
   "source": []
  }
 ],
 "metadata": {
  "kernelspec": {
   "display_name": "Python 3 (ipykernel)",
   "language": "python",
   "name": "python3"
  },
  "language_info": {
   "codemirror_mode": {
    "name": "ipython",
    "version": 3
   },
   "file_extension": ".py",
   "mimetype": "text/x-python",
   "name": "python",
   "nbconvert_exporter": "python",
   "pygments_lexer": "ipython3",
   "version": "3.10.8"
  }
 },
 "nbformat": 4,
 "nbformat_minor": 5
}
